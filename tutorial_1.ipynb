{
 "cells": [
  {
   "cell_type": "code",
   "execution_count": 3,
   "metadata": {},
   "outputs": [
    {
     "name": "stdout",
     "output_type": "stream",
     "text": [
      "Requirement already satisfied: networkx in c:\\users\\chirag chawla\\appdata\\local\\programs\\python\\python312\\lib\\site-packages (3.3)\n"
     ]
    },
    {
     "name": "stderr",
     "output_type": "stream",
     "text": [
      "WARNING: Ignoring invalid distribution ~angchain-cohere (C:\\Users\\CHIRAG CHAWLA\\AppData\\Local\\Programs\\Python\\Python312\\Lib\\site-packages)\n",
      "WARNING: Ignoring invalid distribution ~angchain-community (C:\\Users\\CHIRAG CHAWLA\\AppData\\Local\\Programs\\Python\\Python312\\Lib\\site-packages)\n",
      "WARNING: Ignoring invalid distribution ~angchain-cohere (C:\\Users\\CHIRAG CHAWLA\\AppData\\Local\\Programs\\Python\\Python312\\Lib\\site-packages)\n",
      "WARNING: Ignoring invalid distribution ~angchain-community (C:\\Users\\CHIRAG CHAWLA\\AppData\\Local\\Programs\\Python\\Python312\\Lib\\site-packages)\n",
      "WARNING: Ignoring invalid distribution ~angchain-cohere (C:\\Users\\CHIRAG CHAWLA\\AppData\\Local\\Programs\\Python\\Python312\\Lib\\site-packages)\n",
      "WARNING: Ignoring invalid distribution ~angchain-community (C:\\Users\\CHIRAG CHAWLA\\AppData\\Local\\Programs\\Python\\Python312\\Lib\\site-packages)\n"
     ]
    }
   ],
   "source": [
    "!pip install networkx"
   ]
  },
  {
   "cell_type": "code",
   "execution_count": 4,
   "metadata": {},
   "outputs": [],
   "source": [
    "import networkx as nx"
   ]
  },
  {
   "cell_type": "code",
   "execution_count": 5,
   "metadata": {},
   "outputs": [
    {
     "data": {
      "image/png": "[encoded data removed]",
      "text/plain": [
       "<Figure size 640x480 with 1 Axes>"
      ]
     },
     "metadata": {},
     "output_type": "display_data"
    }
   ],
   "source": [
    "G=nx.Graph()\n",
    "\n",
    "#what will happen if we dont specifies the nodes first?\n",
    "G.add_edge(\"A\",\"B\") \n",
    "\n",
    "nx.draw(G)"
   ]
  },
  {
   "cell_type": "code",
   "execution_count": 6,
   "metadata": {},
   "outputs": [
    {
     "data": {
      "image/png": "[encoded data removed]",
      "text/plain": [
       "<Figure size 640x480 with 1 Axes>"
      ]
     },
     "metadata": {},
     "output_type": "display_data"
    }
   ],
   "source": [
    "#weighted Network\n",
    "G_weighted=nx.Graph()\n",
    "\n",
    "G_weighted.add_edge(\"A\",\"B\",weight=6)\n",
    "G_weighted.add_edge(\"A\",\"D\",weight=3)\n",
    "G_weighted.add_edge(\"A\",\"C\",weight=0.5)\n",
    "G_weighted.add_edge(\"B\",\"D\",weight=1)\n",
    "\n",
    "# draw the nodes with labels\n",
    "nx.draw(G_weighted, with_labels=True)"
   ]
  },
  {
   "cell_type": "code",
   "execution_count": 7,
   "metadata": {},
   "outputs": [
    {
     "data": {
      "text/plain": [
       "[('A', 'B', {'weight': 6}),\n",
       " ('A', 'D', {'weight': 3}),\n",
       " ('A', 'C', {'weight': 0.5}),\n",
       " ('B', 'D', {'weight': 1})]"
      ]
     },
     "execution_count": 7,
     "metadata": {},
     "output_type": "execute_result"
    }
   ],
   "source": [
    "list(G_weighted.edges(data=True)) #a triplet with a dictionary(the third one)"
   ]
  },
  {
   "cell_type": "code",
   "execution_count": 1,
   "metadata": {},
   "outputs": [
    {
     "name": "stdout",
     "output_type": "stream",
     "text": [
      "Requirement already satisfied: rdflib in c:\\users\\chirag chawla\\appdata\\local\\programs\\python\\python312\\lib\\site-packages (7.1.0)\n",
      "Requirement already satisfied: html5lib-modern<2.0,>=1.2 in c:\\users\\chirag chawla\\appdata\\local\\programs\\python\\python312\\lib\\site-packages (from rdflib) (1.2)\n",
      "Requirement already satisfied: pyparsing<4,>=2.1.0 in c:\\users\\chirag chawla\\appdata\\local\\programs\\python\\python312\\lib\\site-packages (from rdflib) (3.2.0)\n",
      "Note: you may need to restart the kernel to use updated packages.\n"
     ]
    },
    {
     "name": "stderr",
     "output_type": "stream",
     "text": [
      "WARNING: Ignoring invalid distribution ~angchain-cohere (c:\\Users\\CHIRAG CHAWLA\\AppData\\Local\\Programs\\Python\\Python312\\Lib\\site-packages)\n",
      "WARNING: Ignoring invalid distribution ~angchain-community (c:\\Users\\CHIRAG CHAWLA\\AppData\\Local\\Programs\\Python\\Python312\\Lib\\site-packages)\n",
      "WARNING: Ignoring invalid distribution ~angchain-cohere (c:\\Users\\CHIRAG CHAWLA\\AppData\\Local\\Programs\\Python\\Python312\\Lib\\site-packages)\n",
      "WARNING: Ignoring invalid distribution ~angchain-community (c:\\Users\\CHIRAG CHAWLA\\AppData\\Local\\Programs\\Python\\Python312\\Lib\\site-packages)\n",
      "WARNING: Ignoring invalid distribution ~angchain-cohere (c:\\Users\\CHIRAG CHAWLA\\AppData\\Local\\Programs\\Python\\Python312\\Lib\\site-packages)\n",
      "WARNING: Ignoring invalid distribution ~angchain-community (c:\\Users\\CHIRAG CHAWLA\\AppData\\Local\\Programs\\Python\\Python312\\Lib\\site-packages)\n"
     ]
    }
   ],
   "source": [
    "pip install rdflib\n"
   ]
  },
  {
   "cell_type": "code",
   "execution_count": 2,
   "metadata": {},
   "outputs": [
    {
     "ename": "AttributeError",
     "evalue": "'str' object has no attribute 'decode'",
     "output_type": "error",
     "traceback": [
      "\u001b[1;31m---------------------------------------------------------------------------\u001b[0m",
      "\u001b[1;31mAttributeError\u001b[0m                            Traceback (most recent call last)",
      "Cell \u001b[1;32mIn[2], line 63\u001b[0m\n\u001b[0;32m     60\u001b[0m g\u001b[38;5;241m.\u001b[39madd((ohs\u001b[38;5;241m.\u001b[39mHateBehaviorProgression, ohs\u001b[38;5;241m.\u001b[39mmayProgressTo, ohs\u001b[38;5;241m.\u001b[39mPhysicalAssault))\n\u001b[0;32m     62\u001b[0m \u001b[38;5;66;03m# Serialize the graph to Turtle format\u001b[39;00m\n\u001b[1;32m---> 63\u001b[0m \u001b[38;5;28mprint\u001b[39m(\u001b[43mg\u001b[49m\u001b[38;5;241;43m.\u001b[39;49m\u001b[43mserialize\u001b[49m\u001b[43m(\u001b[49m\u001b[38;5;28;43mformat\u001b[39;49m\u001b[38;5;241;43m=\u001b[39;49m\u001b[38;5;124;43m'\u001b[39;49m\u001b[38;5;124;43mturtle\u001b[39;49m\u001b[38;5;124;43m'\u001b[39;49m\u001b[43m)\u001b[49m\u001b[38;5;241;43m.\u001b[39;49m\u001b[43mdecode\u001b[49m(\u001b[38;5;124m\"\u001b[39m\u001b[38;5;124mutf-8\u001b[39m\u001b[38;5;124m\"\u001b[39m))\n",
      "\u001b[1;31mAttributeError\u001b[0m: 'str' object has no attribute 'decode'"
     ]
    }
   ],
   "source": [
    "from rdflib import Graph, Namespace, RDF, URIRef, Literal\n",
    "\n",
    "# Define a namespace\n",
    "ohs = Namespace(\"http://example.org/ontology/hate-schema#\")\n",
    "\n",
    "# Create a graph\n",
    "g = Graph()\n",
    "g.bind(\"ohs\", ohs)\n",
    "\n",
    "# Define classes (nodes)\n",
    "g.add((ohs.HateCrime, RDF.type, ohs.Crime))\n",
    "g.add((ohs.Perpetrator, RDF.type, ohs.Person))\n",
    "g.add((ohs.Victim, RDF.type, ohs.Person))\n",
    "g.add((ohs.Incident, RDF.type, ohs.Action))\n",
    "g.add((ohs.AcademicDiscipline, RDF.type, ohs.KnowledgeSource))\n",
    "g.add((ohs.CriminalJusticeSystem, RDF.type, ohs.Institution))\n",
    "g.add((ohs.SocietalFactors, RDF.type, ohs.Influence))\n",
    "g.add((ohs.HotEmotionalInteraction, RDF.type, ohs.Context))\n",
    "g.add((ohs.GroupActs, RDF.type, ohs.Context))\n",
    "g.add((ohs.HateBehaviorProgression, RDF.type, ohs.Pattern))\n",
    "\n",
    "# Define properties (edges)\n",
    "g.add((ohs.HateCrime, ohs.hasVictim, ohs.Victim))\n",
    "g.add((ohs.HateCrime, ohs.hasPerpetrator, ohs.Perpetrator))\n",
    "g.add((ohs.HateCrime, ohs.hasMotivation, ohs.Prejudice))\n",
    "g.add((ohs.HateCrime, ohs.includesIncident, ohs.VerbalAbuse))\n",
    "g.add((ohs.HateCrime, ohs.includesIncident, ohs.PhysicalAssault))\n",
    "g.add((ohs.HateCrime, ohs.includesIncident, ohs.Vandalism))\n",
    "\n",
    "g.add((ohs.Perpetrator, ohs.hasMotivation, ohs.Prejudice))\n",
    "g.add((ohs.Perpetrator, ohs.isInfluencedBy, ohs.IntergenerationalTransmission))\n",
    "g.add((ohs.Perpetrator, ohs.isInfluencedBy, ohs.SocietalFactors))\n",
    "g.add((ohs.Perpetrator, ohs.engagesIn, ohs.Incident))\n",
    "g.add((ohs.Perpetrator, ohs.hasCareerPath, ohs.HateBehaviorProgression))\n",
    "\n",
    "g.add((ohs.Victim, ohs.isTargetedFor, ohs.IdentityTraits))\n",
    "\n",
    "g.add((ohs.Incident, ohs.canBe, ohs.VerbalAbuse))\n",
    "g.add((ohs.Incident, ohs.canBe, ohs.Vandalism))\n",
    "g.add((ohs.Incident, ohs.canBe, ohs.PhysicalAssault))\n",
    "g.add((ohs.Incident, ohs.canBe, ohs.Discrimination))\n",
    "g.add((ohs.Incident, ohs.mayOccurInContext, ohs.HotEmotionalInteraction))\n",
    "g.add((ohs.Incident, ohs.mayOccurInContext, ohs.GroupActs))\n",
    "\n",
    "g.add((ohs.AcademicDiscipline, ohs.contributesToUnderstandingOf, ohs.HateCrime))\n",
    "g.add((ohs.AcademicDiscipline, ohs.includes, ohs.Psychology))\n",
    "g.add((ohs.AcademicDiscipline, ohs.includes, ohs.Criminology))\n",
    "g.add((ohs.AcademicDiscipline, ohs.includes, ohs.Sociology))\n",
    "\n",
    "g.add((ohs.CriminalJusticeSystem, ohs.monitors, ohs.HateCrime))\n",
    "g.add((ohs.CriminalJusticeSystem, ohs.reliesOnDefinition, ohs.ACPO_Definition))\n",
    "g.add((ohs.CriminalJusticeSystem, ohs.records, ohs.MonitoredHateCrime))\n",
    "\n",
    "g.add((ohs.SocietalFactors, ohs.influence, ohs.Perpetrator))\n",
    "\n",
    "g.add((ohs.HotEmotionalInteraction, ohs.lowersThresholdFor, ohs.Violence))\n",
    "g.add((ohs.GroupActs, ohs.mayEnable, ohs.HateCrime))\n",
    "\n",
    "g.add((ohs.HateBehaviorProgression, ohs.startsWith, ohs.VerbalAbuse))\n",
    "g.add((ohs.HateBehaviorProgression, ohs.mayProgressTo, ohs.PhysicalAssault))\n",
    "\n",
    "# Serialize the graph to Turtle format\n",
    "print(g.serialize(format='turtle').decode(\"utf-8\"))\n"
   ]
  },
  {
   "cell_type": "code",
   "execution_count": null,
   "metadata": {},
   "outputs": [],
   "source": []
  }
 ],
 "metadata": {
  "kernelspec": {
   "display_name": "Python 3",
   "language": "python",
   "name": "python3"
  },
  "language_info": {
   "codemirror_mode": {
    "name": "ipython",
    "version": 3
   },
   "file_extension": ".py",
   "mimetype": "text/x-python",
   "name": "python",
   "nbconvert_exporter": "python",
   "pygments_lexer": "ipython3",
   "version": "3.12.6"
  }
 },
 "nbformat": 4,
 "nbformat_minor": 2
}
